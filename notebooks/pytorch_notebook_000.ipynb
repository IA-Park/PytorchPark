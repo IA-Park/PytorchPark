{
  "nbformat": 4,
  "nbformat_minor": 0,
  "metadata": {
    "colab": {
      "provenance": []
    },
    "kernelspec": {
      "name": "python3",
      "display_name": "Python 3"
    },
    "language_info": {
      "name": "python"
    }
  },
  "cells": [
    {
      "cell_type": "markdown",
      "source": [
        "# Breve Introduccion a Pytorch\n",
        "---\n",
        "En este Primer notebook creo que lo adecuado seria introducirnos al mundo fascinante de PyTorch considerando , algunas funciones esenciales, Tensores (el cual es un Concepto basico y muy relevante), etc.\n",
        "\n",
        "***por [Alex T.H.](https://github.com/Zelechos)***\n",
        "\n",
        "***organizacion : [IA-Park](https://github.com/IA-Park)***\n",
        "\n",
        "***fecha de realizacion: 12/04/2024***\n",
        "\n",
        "***fecha de publicacion: undefined***\n",
        "\n",
        "\n"
      ],
      "metadata": {
        "id": "_2hNMqwpiTX1"
      }
    }
  ]
}